{
 "cells": [
  {
   "cell_type": "markdown",
   "metadata": {},
   "source": [
    "# DevOps for SailPoint IdentityNow\n",
    "## SailPoint Navigate Developer On Demand Session - August 2021\n",
    "[Developer Day](https://navigate.sailpoint.com/?utm_source=linkedin.com&utm_medium=social&utm_campaign=navigate&utm_content=linkedin_event)"
   ]
  },
  {
   "cell_type": "markdown",
   "metadata": {},
   "source": [
    "Install the latest version of the SailPoint IdentityNow PowerShell Module from the PowerShell Gallery. Once you have the PowerShell Module installed you can comment out the first line below.\n",
    "\n",
    "**install-module SailPointIdentityNow -force**\n",
    "\n",
    "Import the SailPoint IdentityNow Module to the local Jupyter environment."
   ]
  },
  {
   "cell_type": "code",
   "execution_count": null,
   "metadata": {},
   "outputs": [],
   "source": [
    "Import-Module SailPointIdentityNow -RequiredVersion 1.1.5"
   ]
  },
  {
   "cell_type": "code",
   "execution_count": null,
   "metadata": {
    "scrolled": true
   },
   "outputs": [],
   "source": [
    "get-module"
   ]
  },
  {
   "cell_type": "code",
   "execution_count": null,
   "metadata": {},
   "outputs": [],
   "source": [
    "Get-Command -Module SailPointIdentityNow | Sort-Object Name | Format-Table Name -Autosize"
   ]
  },
  {
   "cell_type": "markdown",
   "metadata": {},
   "source": [
    "# Configure Credentials for the IdentityNow PowerShell Module\n",
    "Create a SailPoint IdentityNow PowerShell Module Profile for your IdentityNow Organisation with your Admin Account and associated Personal Access Token. \n",
    "\n",
    "\n",
    "Your Personal Access Token is created under your profile in the IdentityNow Portal. Select your name in the top right hand corner of the portal. Select Preferences\n",
    "\n",
    "\n",
    "![](./images/CreateNewPersonalAccessToken1.png)\n",
    "\n",
    "Select **Personal Access Tokens** then **New Token**\n",
    "\n",
    "![](./images/CreateNewPersonalAccessToken2.png)\n",
    "\n",
    "Provide a name/reason/description for the Personal Access Token then select **Create Token**.\n",
    "\n",
    "Copy the ClientID and Secret.  \n",
    "\n",
    "![](./images/CreateNewPersonalAccessToken3.png)"
   ]
  },
  {
   "cell_type": "markdown",
   "metadata": {},
   "source": [
    "## Set the IdentityNow Organisation\n",
    "This is the IdentityNow Org that we will be orchestrating with PowerShell"
   ]
  },
  {
   "cell_type": "code",
   "execution_count": null,
   "metadata": {},
   "outputs": [],
   "source": [
    "$orgName = \"yourOrgName\"\n",
    "Get-IdentityNowOrg "
   ]
  },
  {
   "cell_type": "code",
   "execution_count": null,
   "metadata": {},
   "outputs": [],
   "source": [
    "$adminUSR = \"yourAdminName\"\n",
    "$adminPWD = 'yourAdminPassword'\n",
    "$adminCreds = [pscredential]::new($adminUSR, ($adminPWD | ConvertTo-SecureString -AsPlainText -Force))\n",
    "\n",
    "# IdentityNow Personal Access Token as generated through the IdentityNow Portal and your personal identity profile preferences\n",
    "$patClientID = '8489cbb6010..yourPATClientID..422679713'\n",
    "$patClientSecret = 'eb72f2a94fe8b..yourPATSecret..e92120d196'\n",
    "$patCreds = [pscredential]::new(\"$($patClientID)\", ($patClientSecret | ConvertTo-SecureString -AsPlainText -Force))\n",
    "\n",
    "Set-IdentityNowCredential -AdminCredential $adminCreds -PersonalAccessToken $patCreds"
   ]
  },
  {
   "cell_type": "markdown",
   "metadata": {},
   "source": [
    "## Validate your IdentityNow credentials against the IdentityNow Organisation\n",
    "**Note** In this configuration I have historical credentials from earlier versions of the module. From v1.1.4 moving forward you only require a v3/Personal Access Token as configured above. "
   ]
  },
  {
   "cell_type": "code",
   "execution_count": null,
   "metadata": {
    "scrolled": true
   },
   "outputs": [],
   "source": [
    "Test-IdentityNowCredentials"
   ]
  },
  {
   "cell_type": "markdown",
   "metadata": {},
   "source": [
    "## Save Credentials into your IdentityNow Configuration Profile \n",
    "With the configuration set and validated save it securely to the local profile. Make it default so it is the credentials auto loaded with the module (where you have multiple IdentityNow Org configs).  "
   ]
  },
  {
   "cell_type": "code",
   "execution_count": null,
   "metadata": {},
   "outputs": [],
   "source": [
    "Save-IdentityNowConfiguration -default\n",
    "Get-IdentityNowOrg"
   ]
  },
  {
   "cell_type": "markdown",
   "metadata": {},
   "source": [
    "# Create a New Flat File Source\n",
    "With our credentials and organisation configured and validated let's get a list of all the 'Sources' and look at the default 'Identity Admins' source. "
   ]
  },
  {
   "cell_type": "code",
   "execution_count": null,
   "metadata": {},
   "outputs": [],
   "source": [
    "$sources = Get-IdentityNowSource\n",
    "$sources.count"
   ]
  },
  {
   "cell_type": "code",
   "execution_count": null,
   "metadata": {},
   "outputs": [],
   "source": [
    "$flatFileSources = $sources | where-object {$_.sourceType -eq 'DELIMITED_FILE'} | select-object \n",
    "$sources | where-object {$_.sourceType -eq 'DELIMITED_FILE'} | select-object -First 1"
   ]
  },
  {
   "cell_type": "markdown",
   "metadata": {},
   "source": [
    "## New Flat File Source using info for configuration from IdentityNow Admins"
   ]
  },
  {
   "cell_type": "code",
   "execution_count": null,
   "metadata": {},
   "outputs": [],
   "source": [
    "$newFlatFileSource = New-IdentityNowSource -name 'External Users' -description 'External Users' -connectorname 'Delimited File' -sourcetype 'DELIMITED_FILE' \n",
    "$newFlatFileSource"
   ]
  },
  {
   "cell_type": "markdown",
   "metadata": {},
   "source": [
    "## Add additional attributes to the Flat File Source Schema\n",
    "Add 'company', 'jobTitle', 'state', 'fullname'"
   ]
  },
  {
   "cell_type": "code",
   "execution_count": null,
   "metadata": {
    "scrolled": true
   },
   "outputs": [],
   "source": [
    "New-IdentityNowSourceAccountSchemaAttribute -sourceID $newFlatFileSource.id -name 'company' -description 'External Organisation' -type 'string' \n",
    "New-IdentityNowSourceAccountSchemaAttribute -sourceID $newFlatFileSource.id -name 'jobTitle' -description 'Job Title' -type 'string' \n",
    "New-IdentityNowSourceAccountSchemaAttribute -sourceID $newFlatFileSource.id -name 'state' -description 'State' -type 'string' \n",
    "New-IdentityNowSourceAccountSchemaAttribute -sourceID $newFlatFileSource.id -name 'displayName' -description 'Display Name' -type 'string' \n"
   ]
  },
  {
   "cell_type": "markdown",
   "metadata": {},
   "source": [
    "# Create a new Identity Profile\n",
    "Now that we have a new Source for External Identities, let's create an Identity Profile for these External Identity people.\n",
    "\n",
    "We will pass in the ID of the new Flat File Source we created above. "
   ]
  },
  {
   "cell_type": "code",
   "execution_count": null,
   "metadata": {
    "scrolled": true
   },
   "outputs": [],
   "source": [
    "$newIdentityProfile = New-IdentityNowProfile -Name Externals -SourceID $newFlatFileSource.id "
   ]
  },
  {
   "cell_type": "markdown",
   "metadata": {},
   "source": [
    "## Update the Mappings on the Identity Profile to bring through our attributes\n",
    "We can now configure attributes from our Flat File Source to map to our Identity Profile. \n",
    "\n",
    "We will update the Identity Profile for uid, team, region, jobTitle, displayName, firstname, lastname and email. "
   ]
  },
  {
   "cell_type": "code",
   "execution_count": null,
   "metadata": {},
   "outputs": [],
   "source": [
    "Update-IdentityNowProfileMapping -id $newIdentityProfile.id -IdentityAttribute uid -sourceType Standard -source \"$($newFlatFileSource.name):name\" | out-null \n",
    "Update-IdentityNowProfileMapping -id $newIdentityProfile.id -IdentityAttribute team -sourceType Standard -source \"$($newFlatFileSource.name):company\" | out-null \n",
    "Update-IdentityNowProfileMapping -id $newIdentityProfile.id -IdentityAttribute region -sourceType Standard -source \"$($newFlatFileSource.name):state\" | out-null \n",
    "Update-IdentityNowProfileMapping -id $newIdentityProfile.id -IdentityAttribute jobTitle -sourceType Standard -source \"$($newFlatFileSource.name):jobTitle\" | out-null \n",
    "Update-IdentityNowProfileMapping -id $newIdentityProfile.id -IdentityAttribute displayName -sourceType Standard -source \"$($newFlatFileSource.name):displayName\" | out-null \n",
    "Update-IdentityNowProfileMapping -id $newIdentityProfile.id -IdentityAttribute firstname -sourceType Standard -source \"$($newFlatFileSource.name):givenName\" | out-null \n",
    "Update-IdentityNowProfileMapping -id $newIdentityProfile.id -IdentityAttribute lastname -sourceType Standard -source \"$($newFlatFileSource.name):familyName\" | out-null \n",
    "Update-IdentityNowProfileMapping -id $newIdentityProfile.id -IdentityAttribute email -sourceType Standard -source \"$($newFlatFileSource.name):e-mail\" | out-null \n"
   ]
  },
  {
   "cell_type": "markdown",
   "metadata": {},
   "source": [
    "## Update IdentityNow Profile\n",
    "\n",
    "With the mapping configuration updated, we need to refresh the Identity Profile. "
   ]
  },
  {
   "cell_type": "code",
   "execution_count": null,
   "metadata": {
    "scrolled": false
   },
   "outputs": [],
   "source": [
    "Start-IdentityNowProfileUserRefresh -id $newIdentityProfile.id"
   ]
  },
  {
   "cell_type": "markdown",
   "metadata": {},
   "source": [
    "## Import Users for creation on the Flat File Source\n",
    "Reference [Example Dataset](https://blog.darrenjrobinson.com/quickly-generating-a-dataset-of-fictitious-users-using-randomised-real-data-and-powershell/)\n",
    "\n",
    "In this dataset I have the details for 20 Users. "
   ]
  },
  {
   "cell_type": "code",
   "execution_count": null,
   "metadata": {},
   "outputs": [],
   "source": [
    "$userDataset = Import-Clixml .\\datasets\\FlatFileSourceUsersDataset-20.xml\n",
    "$userDataset.count \n",
    "$userDataset[11]"
   ]
  },
  {
   "cell_type": "markdown",
   "metadata": {},
   "source": [
    "## Import Entitlements for creation on the Flat File Source\n",
    "\n",
    "On Flat File Sources we have input files for users, the list of entitlments for a source, then each user and the entitlements they have. \n",
    "The following is the list of entitlements on the Source. "
   ]
  },
  {
   "cell_type": "code",
   "execution_count": null,
   "metadata": {},
   "outputs": [],
   "source": [
    "$entitlementData = import-csv ./datasets/sourceEntitlements.csv \n",
    "$entitlementData[11]"
   ]
  },
  {
   "cell_type": "markdown",
   "metadata": {},
   "source": [
    "## Create Users on the Flat File Source\n",
    "Using the list of users we imported from a local file above we will iterate through them and create them on our new source. \n"
   ]
  },
  {
   "cell_type": "code",
   "execution_count": null,
   "metadata": {},
   "outputs": [],
   "source": [
    "foreach ($user in $userDataset){\n",
    "    $account = $null \n",
    "    $account = @{\"id\"    = $user.Username; \n",
    "            \"name\"        = $user.Username; \n",
    "            \"givenName\"   = $user.Givenname;             \n",
    "            \"familyName\"  = $user.Surname; \n",
    "            \"displayName\" = $user.Fullname; \n",
    "            \"e-mail\"      = $user.email;\n",
    "            \"state\"       = $user.State;\n",
    "            \"company\"     = $user.Company;\n",
    "            \"jobTitle\"    = $user.Title;\n",
    "        }\n",
    "    \"Creating user $($user.Fullname)\"\n",
    "    New-IdentityNowUserSourceAccount -source $newFlatFileSource.id -account ($account | convertto-json)\n",
    "}    "
   ]
  },
  {
   "cell_type": "markdown",
   "metadata": {},
   "source": [
    "## Check on the Identity Processing \n",
    "We can then check to see IdentityNow processing the new users. "
   ]
  },
  {
   "cell_type": "code",
   "execution_count": null,
   "metadata": {
    "scrolled": true
   },
   "outputs": [],
   "source": [
    "Get-IdentityNowActiveJobs"
   ]
  },
  {
   "cell_type": "markdown",
   "metadata": {},
   "source": [
    "## Create the Entitlements on the Flat File Source\n",
    "Using the entitlments file for the source we imported above, we can create them on the Source. "
   ]
  },
  {
   "cell_type": "code",
   "execution_count": null,
   "metadata": {
    "scrolled": false
   },
   "outputs": [],
   "source": [
    "# $entitlementData = import-csv ./datasets/sourceEntitlements.csv \n",
    "New-IdentityNowSourceEntitlements -entitlements $entitlementData -sourceID $newFlatFileSource.id "
   ]
  },
  {
   "cell_type": "markdown",
   "metadata": {},
   "source": [
    "## Import Users Entitlements for creation on Flat File Source\n",
    "Finally we can import the file we have which lists each users entitlements. When a user has multiple entitlements, there will be a row in the dataset for each entitlement a user has. "
   ]
  },
  {
   "cell_type": "code",
   "execution_count": null,
   "metadata": {},
   "outputs": [],
   "source": [
    "$entitlementsDataSet = Import-Clixml .\\datasets\\FlatFileSourceUsersEntitlementDataset-2.xml\n",
    "$entitlementsDataSet.count\n",
    "$entitlementsDataSet[2]\n",
    "$entitlementsDataSet[3]"
   ]
  },
  {
   "cell_type": "markdown",
   "metadata": {},
   "source": [
    "## Import Users Entitlements\n",
    "First get all the new users we've just created"
   ]
  },
  {
   "cell_type": "code",
   "execution_count": null,
   "metadata": {},
   "outputs": [],
   "source": [
    "$flatFileSourceUserAccounts = Get-IdentityNowSourceAccounts -sourceID $newFlatFileSource.id "
   ]
  },
  {
   "cell_type": "markdown",
   "metadata": {},
   "source": [
    "### Read in the entitlements and update the User Object for them. \n",
    "Updates for Entitlements on a Flat File Source is an update per user per entitlement"
   ]
  },
  {
   "cell_type": "code",
   "execution_count": null,
   "metadata": {},
   "outputs": [],
   "source": [
    "$entitlementsDataSet[11]"
   ]
  },
  {
   "cell_type": "code",
   "execution_count": null,
   "metadata": {},
   "outputs": [],
   "source": [
    "foreach ($entitlement in $entitlementsDataSet){\n",
    "    $userObj = $null \n",
    "    $userObj = $flatFileSourceUserAccounts | where-object {$_.accountID -eq $entitlement.id} | select-object\n",
    "    Update-IdentityNowUserSourceAccount -account $userObj.id -update ($entitlement | convertto-json)\n",
    "    \"Updating $($entitlement.displayName) entitlements\"\n",
    "}\n"
   ]
  },
  {
   "cell_type": "markdown",
   "metadata": {},
   "source": [
    "## Update an Account\n",
    "We can now look at a source and retrieve a users. We will use the ID of the source we created above to return all the users on that source. \n",
    "\n",
    "Then we can extract and particular user from the source. "
   ]
  },
  {
   "cell_type": "code",
   "execution_count": null,
   "metadata": {},
   "outputs": [],
   "source": [
    "$externalUsers = Get-IdentityNowSourceAccounts -sourceID $newFlatFileSource.id\n",
    "$user = $externalUsers | where-object {$_.accountId -eq 'Breanna.Mccreadie'} | select-object\n",
    "$user "
   ]
  },
  {
   "cell_type": "markdown",
   "metadata": {},
   "source": [
    "## Add another attribute to the Flat File Source then update the user above\n",
    "With our base records created on the source for our users, we may want to add another attribute to the Source. \n",
    "\n",
    "Let's add a new attribute named 'Country'. "
   ]
  },
  {
   "cell_type": "code",
   "execution_count": null,
   "metadata": {},
   "outputs": [],
   "source": [
    "New-IdentityNowSourceAccountSchemaAttribute -sourceID $newFlatFileSource.id -name 'country' -description 'Country' -type 'string' "
   ]
  },
  {
   "cell_type": "markdown",
   "metadata": {},
   "source": [
    "### Update the user we retrieved above to populate their country with the value 'Australia'"
   ]
  },
  {
   "cell_type": "code",
   "execution_count": null,
   "metadata": {},
   "outputs": [],
   "source": [
    "$update = @{\n",
    "    \"country\" = \"Australia\"\n",
    "} "
   ]
  },
  {
   "cell_type": "code",
   "execution_count": null,
   "metadata": {},
   "outputs": [],
   "source": [
    "Update-IdentityNowUserSourceAccount -account $user.id -update ($update | ConvertTo-Json)"
   ]
  },
  {
   "cell_type": "markdown",
   "metadata": {},
   "source": [
    "## Add Country as an IdentityProfile Attribute\n",
    "First add a mapping for the Country attribute from the Source to the Identity Profile"
   ]
  },
  {
   "cell_type": "code",
   "execution_count": null,
   "metadata": {},
   "outputs": [],
   "source": [
    "Update-IdentityNowProfileMapping -id $newIdentityProfile.id -IdentityAttribute country -sourceType Standard -source \"$($newFlatFileSource.name):country\""
   ]
  },
  {
   "cell_type": "markdown",
   "metadata": {},
   "source": [
    "## Refresh the Identity Profile for the new attribute"
   ]
  },
  {
   "cell_type": "code",
   "execution_count": null,
   "metadata": {},
   "outputs": [],
   "source": [
    "Start-IdentityNowProfileUserRefresh -id $newIdentityProfile.id"
   ]
  },
  {
   "cell_type": "markdown",
   "metadata": {},
   "source": [
    "### Look at the Active Jobs processing the changes"
   ]
  },
  {
   "cell_type": "code",
   "execution_count": null,
   "metadata": {
    "scrolled": true
   },
   "outputs": [],
   "source": [
    "Get-IdentityNowActiveJobs"
   ]
  },
  {
   "cell_type": "markdown",
   "metadata": {},
   "source": [
    "## Make the 'country' attribute available for correlation rules\n",
    "Add an attribute into the Identity Attributes List that can be used in Correlation Rules.\n",
    "\n",
    "This makes the attribute searchable and avaialble for correlation rules."
   ]
  },
  {
   "cell_type": "code",
   "execution_count": null,
   "metadata": {
    "scrolled": false
   },
   "outputs": [],
   "source": [
    "Get-IdentityNowIdentityAttribute -attribute country"
   ]
  },
  {
   "cell_type": "code",
   "execution_count": null,
   "metadata": {
    "scrolled": false
   },
   "outputs": [],
   "source": [
    "Update-IdentityNowIdentityAttribute -attribute country"
   ]
  },
  {
   "cell_type": "markdown",
   "metadata": {},
   "source": [
    "## Remove a user\n",
    "\n",
    "To remove a users from a flat file source we need to retrieve the ID of their source account user object. "
   ]
  },
  {
   "cell_type": "code",
   "execution_count": null,
   "metadata": {},
   "outputs": [],
   "source": [
    "$externalUsers = Get-IdentityNowSourceAccounts -sourceID $newFlatFileSource.id\n",
    "$removeUser = $externalUsers | where-object {$_.accountId -eq 'Breanna.Mccreadie'} | select-object\n",
    "$removeUser "
   ]
  },
  {
   "cell_type": "code",
   "execution_count": null,
   "metadata": {},
   "outputs": [],
   "source": [
    "Remove-IdentityNowUserSourceAccount -account $removeUser.id"
   ]
  },
  {
   "cell_type": "markdown",
   "metadata": {},
   "source": [
    "# Create Access Profiles for all the Entitlements\n",
    "\n",
    "Create an Access Profile that encompasses all the entitlements on an Source.  \n",
    "\n",
    "**This isn't really a real world example**"
   ]
  },
  {
   "cell_type": "markdown",
   "metadata": {},
   "source": [
    "### Get Owner for Access Profile"
   ]
  },
  {
   "cell_type": "code",
   "execution_count": null,
   "metadata": {},
   "outputs": [],
   "source": [
    "$owner = Search-IdentityNowUserProfile -query \"darren.robinson\"\n",
    "$owner"
   ]
  },
  {
   "cell_type": "markdown",
   "metadata": {},
   "source": [
    "### Get Source for Access Profile"
   ]
  },
  {
   "cell_type": "code",
   "execution_count": null,
   "metadata": {},
   "outputs": [],
   "source": [
    "$sources = Get-IdentityNowSource \n",
    "$mySource = $sources | Select-Object | Where-Object {$_.name -like '*External Users*'}\n",
    "$mySource"
   ]
  },
  {
   "cell_type": "markdown",
   "metadata": {},
   "source": [
    "### Get Source Entitlements\n",
    "**Again not a real world scenario** but shows that we can quickly create and Access Profile with 120+ entitlements. \n",
    "\n",
    "We get all the entitlements available on the Source and we'll add them to a new Access Profile we will create. "
   ]
  },
  {
   "cell_type": "code",
   "execution_count": null,
   "metadata": {},
   "outputs": [],
   "source": [
    "# Entitlements\n",
    "$e = Search-IdentityNowEntitlements -query \"source.id:$($mySource.externalId)\"\n"
   ]
  },
  {
   "cell_type": "code",
   "execution_count": null,
   "metadata": {
    "scrolled": true
   },
   "outputs": [],
   "source": [
    "# Access Profile Details\n",
    "$accessProfile = @{}\n",
    "$accessProfile.add(\"name\", \"$($mySource.name) Access Profile\")\n",
    "$accessProfile.add(\"description\", \"$($mySource.name) Access Profile\")\n",
    "$accessProfile.add(\"sourceId\", $mySource.id)\n",
    "$accessProfile.add(\"ownerId\", $owner.id)\n",
    "\n",
    "$accessProfile"
   ]
  },
  {
   "cell_type": "markdown",
   "metadata": {},
   "source": [
    "## Configure the Access Profile \n",
    "\n",
    "Configure the Access Profile for Manager Approval with comments required for Request and Deny workflows. "
   ]
  },
  {
   "cell_type": "code",
   "execution_count": null,
   "metadata": {},
   "outputs": [],
   "source": [
    "# Access Profile Entitlements\n",
    "$entitlements = @()\n",
    "ForEach($i in $e) {$entitlements += $i.id}\n",
    "$entitlementsToAdd = @{\"entitlements\" = $entitlements}\n",
    "$accessProfile.add(\"entitlements\", $entitlementsToAdd.entitlements)\n",
    "\n",
    "# Access Profile Type\n",
    "$accessProfile.add(\"approvalSchemes\", \"manager\")\n",
    "$accessProfile.add(\"requestCommentsRequired\", $true)\n",
    "$accessProfile.add(\"deniedCommentsRequired\", $true)\n",
    "\n",
    "$accessProfile"
   ]
  },
  {
   "cell_type": "markdown",
   "metadata": {},
   "source": [
    "### Create the Access Profile\n",
    "\n",
    "With the configuration created we can create the Access Profile"
   ]
  },
  {
   "cell_type": "code",
   "execution_count": null,
   "metadata": {
    "scrolled": true
   },
   "outputs": [],
   "source": [
    "New-IdentityNowAccessProfile -profile ($accessProfile | convertto-json)"
   ]
  },
  {
   "cell_type": "markdown",
   "metadata": {},
   "source": [
    "# Create a Certification Campaign for our new Source\n",
    "\n",
    "We will create a Source Owner based Certification Campaign for our new Flat File Source.\n",
    "\n",
    "\n",
    "## Create a Campaign Filter\n",
    "\n",
    "We will create an inclusion campaign filter for the source."
   ]
  },
  {
   "cell_type": "code",
   "execution_count": null,
   "metadata": {},
   "outputs": [],
   "source": [
    "$criteria = @{}\n",
    "$criteria.Add(\"operation\", \"EQUALS\")\n",
    "$criteria.Add(\"property\", \"application\")\n",
    "$criteria.Add(\"sourceName\", \"\")\n",
    "$criteria.Add(\"type\", \"SOURCE\")\n",
    "$criteria.Add(\"value\", \"$($newFlatFileSource.name)\")\n",
    "$jsonCriteria = $criteria | convertto-json\n",
    "\n",
    "$campaignFilter = @{}\n",
    "$campaignFilter.Add(\"mode\", \"INCLUSION\")\n",
    "$campaignFilter.Add(\"name\", \"Externals Source Filter\")\n",
    "$campaignFilter.Add(\"description\", \"Source Campaign Filter - Externals\")\n",
    "$campaignFilter.Add(\"criteriaList\", $jsonCriteria )\n"
   ]
  },
  {
   "cell_type": "code",
   "execution_count": null,
   "metadata": {},
   "outputs": [],
   "source": [
    "$campaignFilter\n",
    "$campaignFilter.criteriaList                   "
   ]
  },
  {
   "cell_type": "code",
   "execution_count": null,
   "metadata": {
    "scrolled": true
   },
   "outputs": [],
   "source": [
    "$campaignFilter = Invoke-IdentityNowRequest -method Post `\n",
    "-uri \"https://$($orgName).api.identitynow.com/cc/api/campaignFilter/create\" `\n",
    "-headers Headersv3_JSON `\n",
    "-body ($campaignFilter | ConvertTo-Json)"
   ]
  },
  {
   "cell_type": "markdown",
   "metadata": {},
   "source": [
    "## Create our Campaign\n",
    "\n",
    "Create our Source Owner based campaign in the Australian East Timezone specifying the criteria (don't auto revoke, naming and campaign end date). "
   ]
  },
  {
   "cell_type": "code",
   "execution_count": null,
   "metadata": {
    "scrolled": true
   },
   "outputs": [],
   "source": [
    "# Create Campaign\n",
    "$campaignOptions = @{ }\n",
    "$campaignOptions.Add(\"type\", \"SourceOwner\")\n",
    "$campaignOptions.Add(\"timeZone\", \"GMT+1000\")\n",
    "$campaignOptions.Add(\"name\", \"July 2021 $($newFlatFileSource.name) Source Entitlements Campaign\")\n",
    "$campaignOptions.Add(\"allowAutoRevoke\", $false)\n",
    "$campaignOptions.Add(\"deadline\", \"2021-08-01\")\n",
    "$campaignOptions.Add(\"description\", \"July 2021 $($newFlatFileSource.name) Source Entitlements Campaign\")\n",
    "$campaignOptions.Add(\"disableEmail\", $true)\n",
    "$campaignOptions.Add(\"identityIdList\", @())\n",
    "$campaignOptions.Add(\"sourceIds\", \"$($newFlatFileSource.id)\")\n",
    "$campaignOptions.Add(\"campaignFilterId\", \"$($campaignFilter.id)\")\n",
    "$campaignBody = $campaignOptions | ConvertTo-Json"
   ]
  },
  {
   "cell_type": "code",
   "execution_count": null,
   "metadata": {},
   "outputs": [],
   "source": [
    "$campaignBody "
   ]
  },
  {
   "cell_type": "code",
   "execution_count": null,
   "metadata": {},
   "outputs": [],
   "source": [
    "$newCertCampaign = New-IdentityNowCertCampaign -start $false -campaign $campaignBody \n",
    "$newCertCampaign"
   ]
  },
  {
   "cell_type": "markdown",
   "metadata": {},
   "source": [
    "## Start our Campaign\n",
    "When we created the campaign above we used -start $false\n",
    "\n",
    "This means it was created and sits as Preview. \n",
    "\n",
    "Now let's start the campaign"
   ]
  },
  {
   "cell_type": "code",
   "execution_count": null,
   "metadata": {},
   "outputs": [],
   "source": [
    "Start-IdentityNowCertCampaign -campaignID $newCertCampaign.id -timezone \"GMT+10:00\""
   ]
  },
  {
   "cell_type": "markdown",
   "metadata": {},
   "source": [
    "## Campaign Reports\n",
    "Get/Generate the reports for the campaign we just started. "
   ]
  },
  {
   "cell_type": "code",
   "execution_count": null,
   "metadata": {},
   "outputs": [],
   "source": [
    "Get-IdentityNowCertCampaign -campaignID $newCertCampaign.id"
   ]
  },
  {
   "cell_type": "code",
   "execution_count": null,
   "metadata": {},
   "outputs": [],
   "source": [
    "$reports = Get-IdentityNowCertCampaignReport -campaignID $newCertCampaign.id \n",
    "$reports"
   ]
  },
  {
   "cell_type": "code",
   "execution_count": null,
   "metadata": {},
   "outputs": [],
   "source": [
    "$reports[0].Report"
   ]
  },
  {
   "cell_type": "code",
   "execution_count": null,
   "metadata": {
    "scrolled": true
   },
   "outputs": [],
   "source": [
    "Get-IdentityNowCertCampaignReport -period 30 -completed $false "
   ]
  },
  {
   "cell_type": "markdown",
   "metadata": {},
   "source": [
    "## Search Authentications"
   ]
  },
  {
   "cell_type": "code",
   "execution_count": null,
   "metadata": {},
   "outputs": [],
   "source": [
    "$query = @{query = 'technicalName:AUTHENTICATION_REQUEST_PASSED*'; type = 'AUTH'}\n",
    "$queryFilter = @{query = $query}\n",
    "Search-IdentityNowEvents -filter ($queryFilter | convertto-json) -searchLimit 100"
   ]
  },
  {
   "cell_type": "markdown",
   "metadata": {},
   "source": [
    "## Applications\n",
    "Get the default configured Applications (using the -org switch)"
   ]
  },
  {
   "cell_type": "code",
   "execution_count": null,
   "metadata": {},
   "outputs": [],
   "source": [
    "$applicationsList = Get-IdentityNowApplication -org $true\n",
    "$appNames = $applicationsList | select-object -Property name "
   ]
  },
  {
   "cell_type": "code",
   "execution_count": null,
   "metadata": {},
   "outputs": [],
   "source": [
    "$applicationsList[11]"
   ]
  },
  {
   "cell_type": "code",
   "execution_count": null,
   "metadata": {
    "scrolled": true
   },
   "outputs": [],
   "source": [
    "$appNames.count\n"
   ]
  }
 ],
 "metadata": {
  "kernelspec": {
   "display_name": ".NET (PowerShell)",
   "language": "PowerShell",
   "name": ".net-powershell"
  },
  "language_info": {
   "file_extension": ".ps1",
   "mimetype": "text/x-powershell",
   "name": "PowerShell",
   "pygments_lexer": "powershell",
   "version": "7.0"
  }
 },
 "nbformat": 4,
 "nbformat_minor": 4
}
